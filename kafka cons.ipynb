{
 "cells": [
  {
   "cell_type": "code",
   "execution_count": 8,
   "id": "ba6bdf6d-039a-4dff-8318-e7c89b3bf523",
   "metadata": {},
   "outputs": [],
   "source": [
    "from kafka import KafkaConsumer\n",
    "from time import sleep\n",
    "from json import dumps,loads\n",
    "import json"
   ]
  },
  {
   "cell_type": "code",
   "execution_count": 9,
   "id": "c7695cc9-9166-4415-9563-f3ccf9ad6b28",
   "metadata": {},
   "outputs": [],
   "source": [
    "consumer = KafkaConsumer(\n",
    "    'test21',\n",
    "    bootstrap_servers=['localhost:9092'], #add your IP here\n",
    "    value_deserializer=lambda x: loads(x.decode('utf-8')))\n",
    "   "
   ]
  },
  {
   "cell_type": "code",
   "execution_count": null,
   "id": "06e769a4-9c83-4ac6-aa7c-6d7f7c29daee",
   "metadata": {},
   "outputs": [
    {
     "name": "stdout",
     "output_type": "stream",
     "text": [
      "{'surnasdasdame': 'parasdasdmar'}\n",
      "{'Index': 'NYA', 'Date': '1971-03-10', 'Open': 578.909973, 'High': 578.909973, 'Low': 578.909973, 'Close': 578.909973, 'Adj Close': 578.909973, 'Volume': 0.0, 'CloseUSD': 578.909973}\n",
      "{'Index': 'N100', 'Date': '2007-05-14', 'Open': 1050.219971, 'High': 1050.579956, 'Low': 1042.130005, 'Close': 1044.109985, 'Adj Close': 1044.109985, 'Volume': 276510100.0, 'CloseUSD': 1273.8141817}\n",
      "{'Index': 'IXIC', 'Date': '1994-04-29', 'Open': 729.72998, 'High': 734.369995, 'Low': 728.590027, 'Close': 733.840027, 'Adj Close': 733.840027, 'Volume': 263810000.0, 'CloseUSD': 733.840027}\n",
      "{'Index': 'IXIC', 'Date': '1996-03-18', 'Open': 1102.780029, 'High': 1114.430054, 'Low': 1102.780029, 'Close': 1114.420044, 'Adj Close': 1114.420044, 'Volume': 498780000.0, 'CloseUSD': 1114.420044}\n",
      "{'csv_line': 'Index,Date,Open,High,Low,Close,Adj Close,Volume,CloseUSD'}\n",
      "{'csv_line': 'HSI,31-12-1986,2568.300049,2568.300049,2568.300049,2568.300049,2568.300049,0,333.8790064'}\n",
      "{'csv_line': 'HSI,02-01-1987,2540.100098,2540.100098,2540.100098,2540.100098,2540.100098,0,330.2130127'}\n",
      "{'csv_line': 'HSI,05-01-1987,2552.399902,2552.399902,2552.399902,2552.399902,2552.399902,0,331.8119873'}\n",
      "{'csv_line': 'HSI,06-01-1987,2583.899902,2583.899902,2583.899902,2583.899902,2583.899902,0,335.9069873'}\n",
      "{'csv_line': 'Index,Date,Open,High,Low,Close,Adj Close,Volume,CloseUSD'}\n",
      "{'csv_line': 'HSI,31-12-1986,2568.300049,2568.300049,2568.300049,2568.300049,2568.300049,0,333.8790064'}\n",
      "{'csv_line': 'HSI,02-01-1987,2540.100098,2540.100098,2540.100098,2540.100098,2540.100098,0,330.2130127'}\n",
      "{'csv_line': 'HSI,05-01-1987,2552.399902,2552.399902,2552.399902,2552.399902,2552.399902,0,331.8119873'}\n",
      "{'csv_line': 'HSI,06-01-1987,2583.899902,2583.899902,2583.899902,2583.899902,2583.899902,0,335.9069873'}\n",
      "{'csv_line': 'HSI,09-01-1987,2561.699951,2561.699951,2561.699951,2561.699951,2561.699951,0,333.0209936'}\n",
      "{'csv_line': 'HSI,09-01-1987,2561.699951,2561.699951,2561.699951,2561.699951,2561.699951,0,333.0209936'}\n",
      "{'csv_line': 'HSI,09-01-1987,2561.699951,2561.699951,2561.699951,2561.699951,2561.699951,0,7999'}\n"
     ]
    }
   ],
   "source": [
    "for c in consumer:\n",
    "    print(c.value)"
   ]
  },
  {
   "cell_type": "code",
   "execution_count": null,
   "id": "4ecfb5f9-8679-4a83-881b-035978edad6f",
   "metadata": {},
   "outputs": [],
   "source": []
  }
 ],
 "metadata": {
  "kernelspec": {
   "display_name": "Python 3 (ipykernel)",
   "language": "python",
   "name": "python3"
  },
  "language_info": {
   "codemirror_mode": {
    "name": "ipython",
    "version": 3
   },
   "file_extension": ".py",
   "mimetype": "text/x-python",
   "name": "python",
   "nbconvert_exporter": "python",
   "pygments_lexer": "ipython3",
   "version": "3.12.2"
  }
 },
 "nbformat": 4,
 "nbformat_minor": 5
}
